{
 "cells": [
  {
   "cell_type": "code",
   "execution_count": null,
   "id": "aac1a4c1",
   "metadata": {},
   "outputs": [],
   "source": [
    "#import required libraries\n",
    "import rasterio\n",
    "from rasterio import plot\n",
    "import matplotlib.pyplot as plt\n",
    "import numpy as np\n",
    "%matplotlib inline\n",
    "import os\n",
    "os.listdir('../Landsat8/')\n",
    "#import bands as separate 1 band raster\n",
    "band4 = rasterio.open('../Landsat8/LC08_L1TP_042035_20180603_20180615_01_T1_B4_clip.tif') #red\n",
    "band5 = rasterio.open('../Landsat8/LC08_L1TP_042035_20180603_20180615_01_T1_B5_clip.tif') #nir\n",
    "#number of raster rows\n",
    "band4.height\n",
    "#number of raster columns\n",
    "band4.width\n",
    "#plot band \n",
    "plot.show(band4)\n",
    "#type of raster byte\n",
    "band4.dtypes[0]\n",
    "#raster sytem of reference\n",
    "band4.crs\n",
    "#raster transform parameters\n",
    "band4.transform\n",
    "#raster values as matrix array\n",
    "band4.read(1)\n",
    "#multiple band representation\n",
    "fig, (ax1, ax2) = plt.subplots(1, 2, figsize=(12, 6))\n",
    "plot.show(band4, ax=ax1, cmap='Blues') #red\n",
    "plot.show(band5, ax=ax2, cmap='Blues') #nir\n",
    "fig.tight_layout()\n",
    "#generate nir and red objects as arrays in float64 format\n",
    "red = band4.read(1).astype('float64')\n",
    "nir = band5.read(1).astype('float64')\n",
    "\n",
    "nir\n",
    "#ndvi calculation, empty cells or nodata cells are reported as 0\n",
    "ndvi=np.where(\n",
    "    (nir+red)==0., \n",
    "    0, \n",
    "    (nir-red)/(nir+red))\n",
    "ndvi[:5,:5]\n",
    "#export ndvi image\n",
    "ndviImage = rasterio.open('../Output/ndviImage.tiff','w',driver='Gtiff',\n",
    "                          width=band4.width, \n",
    "                          height = band4.height, \n",
    "                          count=1, crs=band4.crs, \n",
    "                          transform=band4.transform, \n",
    "                          dtype='float64')\n",
    "ndviImage.write(ndvi,1)\n",
    "ndviImage.close()\n",
    "#plot ndvi\n",
    "ndvi = rasterio.open('../Output/ndviImage.tiff')\n",
    "fig = plt.figure(figsize=(18,12))\n",
    "plot.show(ndvi)"
   ]
  },
  {
   "cell_type": "code",
   "execution_count": null,
   "id": "f720c298",
   "metadata": {},
   "outputs": [],
   "source": []
  }
 ],
 "metadata": {
  "kernelspec": {
   "display_name": "Python 3",
   "language": "python",
   "name": "python3"
  },
  "language_info": {
   "codemirror_mode": {
    "name": "ipython",
    "version": 3
   },
   "file_extension": ".py",
   "mimetype": "text/x-python",
   "name": "python",
   "nbconvert_exporter": "python",
   "pygments_lexer": "ipython3",
   "version": "3.8.8"
  }
 },
 "nbformat": 4,
 "nbformat_minor": 5
}
